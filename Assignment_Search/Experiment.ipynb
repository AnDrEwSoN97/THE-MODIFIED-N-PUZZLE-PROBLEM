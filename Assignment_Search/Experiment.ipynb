{
 "cells": [
  {
   "cell_type": "code",
   "execution_count": 1,
   "source": [
    "misplaced = []\r\n",
    "\r\n",
    "with open(\"misplaced.txt\") as f:\r\n",
    "    for line in f.readlines():\r\n",
    "       misplaced.append(int(line.strip()))\r\n",
    "\r\n",
    "misplaced\r\n"
   ],
   "outputs": [
    {
     "output_type": "execute_result",
     "data": {
      "text/plain": [
       "[56,\n",
       " 12,\n",
       " 702,\n",
       " 46,\n",
       " 2,\n",
       " 68,\n",
       " 12,\n",
       " 3,\n",
       " 31,\n",
       " 32,\n",
       " 2,\n",
       " 2,\n",
       " 2,\n",
       " 72,\n",
       " 2,\n",
       " 46,\n",
       " 12,\n",
       " 44,\n",
       " 77,\n",
       " 68,\n",
       " 77,\n",
       " 103,\n",
       " 2,\n",
       " 44,\n",
       " 2,\n",
       " 2,\n",
       " 31,\n",
       " 2,\n",
       " 2,\n",
       " 2,\n",
       " 702,\n",
       " 3,\n",
       " 12,\n",
       " 33,\n",
       " 2,\n",
       " 2,\n",
       " 2,\n",
       " 103,\n",
       " 3,\n",
       " 3054,\n",
       " 3,\n",
       " 2,\n",
       " 33,\n",
       " 2,\n",
       " 56,\n",
       " 253,\n",
       " 80,\n",
       " 979,\n",
       " 140,\n",
       " 44,\n",
       " 2,\n",
       " 2,\n",
       " 2,\n",
       " 68,\n",
       " 2,\n",
       " 3,\n",
       " 68,\n",
       " 2,\n",
       " 32,\n",
       " 3,\n",
       " 471,\n",
       " 3,\n",
       " 2,\n",
       " 32,\n",
       " 2,\n",
       " 3,\n",
       " 2,\n",
       " 13,\n",
       " 2,\n",
       " 2,\n",
       " 253,\n",
       " 56,\n",
       " 2,\n",
       " 44,\n",
       " 44,\n",
       " 2,\n",
       " 3,\n",
       " 12,\n",
       " 32,\n",
       " 2,\n",
       " 2,\n",
       " 33,\n",
       " 36,\n",
       " 3,\n",
       " 2,\n",
       " 77,\n",
       " 56,\n",
       " 3,\n",
       " 82,\n",
       " 33,\n",
       " 236,\n",
       " 13,\n",
       " 702,\n",
       " 2,\n",
       " 2,\n",
       " 32,\n",
       " 32,\n",
       " 2,\n",
       " 72,\n",
       " 33]"
      ]
     },
     "metadata": {},
     "execution_count": 1
    }
   ],
   "metadata": {
    "collapsed": true,
    "pycharm": {
     "is_executing": false
    }
   }
  },
  {
   "cell_type": "code",
   "execution_count": 2,
   "source": [
    "manhattan = []\r\n",
    "\r\n",
    "with open(\"manhattan.txt\") as f:\r\n",
    "    for line in f:\r\n",
    "        manhattan.append(int(line.strip()))\r\n",
    "\r\n",
    "manhattan"
   ],
   "outputs": [
    {
     "output_type": "execute_result",
     "data": {
      "text/plain": [
       "[32,\n",
       " 11,\n",
       " 237,\n",
       " 28,\n",
       " 2,\n",
       " 42,\n",
       " 11,\n",
       " 3,\n",
       " 24,\n",
       " 29,\n",
       " 2,\n",
       " 2,\n",
       " 2,\n",
       " 64,\n",
       " 2,\n",
       " 28,\n",
       " 11,\n",
       " 28,\n",
       " 63,\n",
       " 42,\n",
       " 63,\n",
       " 94,\n",
       " 2,\n",
       " 28,\n",
       " 2,\n",
       " 2,\n",
       " 29,\n",
       " 2,\n",
       " 2,\n",
       " 2,\n",
       " 237,\n",
       " 3,\n",
       " 12,\n",
       " 29,\n",
       " 2,\n",
       " 2,\n",
       " 2,\n",
       " 94,\n",
       " 3,\n",
       " 895,\n",
       " 3,\n",
       " 2,\n",
       " 27,\n",
       " 2,\n",
       " 32,\n",
       " 105,\n",
       " 80,\n",
       " 308,\n",
       " 81,\n",
       " 28,\n",
       " 2,\n",
       " 2,\n",
       " 2,\n",
       " 42,\n",
       " 2,\n",
       " 3,\n",
       " 42,\n",
       " 2,\n",
       " 27,\n",
       " 3,\n",
       " 202,\n",
       " 3,\n",
       " 2,\n",
       " 27,\n",
       " 2,\n",
       " 3,\n",
       " 2,\n",
       " 12,\n",
       " 2,\n",
       " 2,\n",
       " 105,\n",
       " 32,\n",
       " 2,\n",
       " 28,\n",
       " 28,\n",
       " 2,\n",
       " 3,\n",
       " 11,\n",
       " 29,\n",
       " 2,\n",
       " 2,\n",
       " 27,\n",
       " 36,\n",
       " 3,\n",
       " 2,\n",
       " 63,\n",
       " 32,\n",
       " 3,\n",
       " 42,\n",
       " 29,\n",
       " 86,\n",
       " 12,\n",
       " 237,\n",
       " 2,\n",
       " 2,\n",
       " 29,\n",
       " 29,\n",
       " 2,\n",
       " 64,\n",
       " 27]"
      ]
     },
     "metadata": {},
     "execution_count": 2
    }
   ],
   "metadata": {
    "collapsed": false,
    "pycharm": {
     "name": "#%%\n",
     "is_executing": false
    }
   }
  },
  {
   "cell_type": "code",
   "execution_count": 3,
   "source": [
    "import numpy as np\r\n",
    "differences = [abs(manhattan[i]-misplaced[i]) for i in range(100)]\r\n",
    "differences\r\n",
    "differences = np.array(differences)\r\n",
    "differences.mean()"
   ],
   "outputs": [
    {
     "output_type": "execute_result",
     "data": {
      "text/plain": [
       "54.94"
      ]
     },
     "metadata": {},
     "execution_count": 3
    }
   ],
   "metadata": {
    "collapsed": false,
    "pycharm": {
     "name": "#%%\n",
     "is_executing": false
    }
   }
  },
  {
   "cell_type": "code",
   "execution_count": 4,
   "source": [
    "import scipy.stats as st \r\n",
    "manhattan = np.array(manhattan)\r\n",
    "misplaced = np.array(misplaced)"
   ],
   "outputs": [],
   "metadata": {
    "collapsed": false,
    "pycharm": {
     "name": "#%%\n",
     "is_executing": false
    }
   }
  },
  {
   "cell_type": "code",
   "execution_count": 5,
   "source": [
    "t_test = st.ttest_ind(a=misplaced,b = manhattan)"
   ],
   "outputs": [],
   "metadata": {
    "collapsed": false,
    "pycharm": {
     "name": "#%%\n",
     "is_executing": false
    }
   }
  },
  {
   "cell_type": "code",
   "execution_count": 6,
   "source": [
    "print(t_test.statistic)\r\n",
    "print(t_test.pvalue)"
   ],
   "outputs": [
    {
     "output_type": "stream",
     "name": "stdout",
     "text": [
      "1.5514217139782707\n",
      "0.12239756224987167\n"
     ]
    }
   ],
   "metadata": {
    "collapsed": false,
    "pycharm": {
     "name": "#%%\n",
     "is_executing": false
    }
   }
  },
  {
   "cell_type": "code",
   "execution_count": 7,
   "source": [
    "t_test = st.ttest_ind(a=manhattan,b=misplaced,)\r\n"
   ],
   "outputs": [],
   "metadata": {
    "collapsed": false,
    "pycharm": {
     "name": "#%%\n"
    }
   }
  },
  {
   "cell_type": "code",
   "execution_count": 8,
   "source": [
    "print(t_test.statistic)\r\n",
    "print(t_test.pvalue)"
   ],
   "outputs": [
    {
     "output_type": "stream",
     "name": "stdout",
     "text": [
      "-1.5514217139782707\n",
      "0.12239756224987167\n"
     ]
    }
   ],
   "metadata": {}
  }
 ],
 "metadata": {
  "kernelspec": {
   "name": "python3",
   "display_name": "Python 3.9.6 64-bit"
  },
  "language_info": {
   "name": "python",
   "version": "3.9.6",
   "mimetype": "text/x-python",
   "codemirror_mode": {
    "name": "ipython",
    "version": 3
   },
   "pygments_lexer": "ipython3",
   "nbconvert_exporter": "python",
   "file_extension": ".py"
  },
  "pycharm": {
   "stem_cell": {
    "cell_type": "raw",
    "source": [],
    "metadata": {
     "collapsed": false
    }
   }
  },
  "interpreter": {
   "hash": "63fd5069d213b44bf678585dea6b12cceca9941eaf7f819626cde1f2670de90d"
  }
 },
 "nbformat": 4,
 "nbformat_minor": 2
}